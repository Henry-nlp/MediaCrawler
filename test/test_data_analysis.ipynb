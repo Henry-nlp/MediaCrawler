{
 "cells": [
  {
   "cell_type": "code",
   "execution_count": 4,
   "metadata": {},
   "outputs": [
    {
     "name": "stdout",
     "output_type": "stream",
     "text": [
      "('../data/xhs/json/search_contents_2024-12-02（搜索关键词“中复村，长征”）', '.json')\n"
     ]
    }
   ],
   "source": [
    "import os\n",
    "\n",
    "path = \"../data/xhs/json/search_contents_2024-12-02（搜索关键词“中复村，长征”）.json\"\n",
    "print(os.path.splitext(path))"
   ]
  },
  {
   "cell_type": "code",
   "execution_count": 5,
   "metadata": {},
   "outputs": [
    {
     "name": "stdout",
     "output_type": "stream",
     "text": [
      "e:\\code\\MediaCrawler\n"
     ]
    }
   ],
   "source": [
    "import os\n",
    "\n",
    "# 获取当前工作目录的绝对路径\n",
    "current_path = os.getcwd()\n",
    "\n",
    "# 获取当前工作目录的父目录，即项目的根目录\n",
    "root_path = os.path.dirname(current_path)\n",
    "\n",
    "print(root_path)\n"
   ]
  },
  {
   "cell_type": "code",
   "execution_count": 7,
   "metadata": {},
   "outputs": [
    {
     "name": "stdout",
     "output_type": "stream",
     "text": [
      "e:\\code\\MediaCrawler\\test\n",
      "['C:\\\\Users\\\\71915\\\\AppData\\\\Local\\\\Programs\\\\Python\\\\Python39\\\\python39.zip', 'C:\\\\Users\\\\71915\\\\AppData\\\\Local\\\\Programs\\\\Python\\\\Python39\\\\DLLs', 'C:\\\\Users\\\\71915\\\\AppData\\\\Local\\\\Programs\\\\Python\\\\Python39\\\\lib', 'C:\\\\Users\\\\71915\\\\AppData\\\\Local\\\\Programs\\\\Python\\\\Python39', 'e:\\\\code\\\\MediaCrawler\\\\venv', '', 'e:\\\\code\\\\MediaCrawler\\\\venv\\\\lib\\\\site-packages', 'e:\\\\code\\\\MediaCrawler\\\\venv\\\\lib\\\\site-packages\\\\win32', 'e:\\\\code\\\\MediaCrawler\\\\venv\\\\lib\\\\site-packages\\\\win32\\\\lib', 'e:\\\\code\\\\MediaCrawler\\\\venv\\\\lib\\\\site-packages\\\\Pythonwin', 'e:\\\\code\\\\MediaCrawler', 'e:\\\\code\\\\MediaCrawler']\n"
     ]
    }
   ],
   "source": [
    "import sys\n",
    "current_path = os.getcwd()\n",
    "print(current_path)\n",
    "root_path = os.path.dirname(current_path)\n",
    "sys.path.append(root_path)\n",
    "\n",
    "print(sys.path)"
   ]
  },
  {
   "cell_type": "code",
   "execution_count": 2,
   "metadata": {},
   "outputs": [
    {
     "name": "stdout",
     "output_type": "stream",
     "text": [
      "127.0.0.1\n"
     ]
    }
   ],
   "source": [
    "import os\n",
    "\n",
    "a = os.getenv('SIGN_SRV_HOST', '127.0.0.1')\n",
    "print(a)"
   ]
  },
  {
   "cell_type": "code",
   "execution_count": 1,
   "metadata": {},
   "outputs": [
    {
     "name": "stdout",
     "output_type": "stream",
     "text": [
      "{1: None, 2: None, 3: None}\n"
     ]
    }
   ],
   "source": [
    "data = [\n",
    "    {'id': 1, 'name': 'Alice'},\n",
    "    {'id': 2, 'name': 'Bob'},\n",
    "    {'id': 1, 'name': 'Charlie'},\n",
    "    {'id': 3, 'name': 'David'},\n",
    "]\n",
    "\n",
    "# 使用字典的 fromkeys() 方法进行去重\n",
    "unique_data = dict.fromkeys([item['id'] for item in data], None)\n",
    "\n",
    "print(unique_data)\n",
    "\n",
    "# unique_data = list(unique_data.keys())\n",
    "\n",
    "# # 或者使用 dict 构造函数结合列表推导式进行去重\n",
    "# unique_data = list(dict.fromkeys(item['id'] for item in data))\n",
    "\n",
    "# print(unique_data)\n"
   ]
  },
  {
   "cell_type": "code",
   "execution_count": null,
   "metadata": {},
   "outputs": [],
   "source": []
  }
 ],
 "metadata": {
  "kernelspec": {
   "display_name": "venv",
   "language": "python",
   "name": "python3"
  },
  "language_info": {
   "codemirror_mode": {
    "name": "ipython",
    "version": 3
   },
   "file_extension": ".py",
   "mimetype": "text/x-python",
   "name": "python",
   "nbconvert_exporter": "python",
   "pygments_lexer": "ipython3",
   "version": "3.9.6"
  }
 },
 "nbformat": 4,
 "nbformat_minor": 2
}
